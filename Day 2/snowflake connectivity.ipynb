{
 "cells": [
  {
   "cell_type": "code",
   "execution_count": 0,
   "metadata": {
    "application/vnd.databricks.v1+cell": {
     "cellMetadata": {
      "byteLimit": 2048000,
      "rowLimit": 10000
     },
     "inputWidgets": {},
     "nuid": "e7b63936-d6d1-4213-ab92-496a5e46d901",
     "showTitle": false,
     "tableResultSettingsMap": {},
     "title": ""
    }
   },
   "outputs": [
    {
     "output_type": "display_data",
     "data": {
      "text/html": [
       "<style scoped>\n",
       "  .table-result-container {\n",
       "    max-height: 300px;\n",
       "    overflow: auto;\n",
       "  }\n",
       "  table, th, td {\n",
       "    border: 1px solid black;\n",
       "    border-collapse: collapse;\n",
       "  }\n",
       "  th, td {\n",
       "    padding: 5px;\n",
       "  }\n",
       "  th {\n",
       "    text-align: left;\n",
       "  }\n",
       "</style><div class='table-result-container'><table class='table-result'><thead style='background-color: white'><tr><th>ID</th><th>CUSTOEMR_NAME</th><th>REGION</th><th>AMOUNT</th><th>SALE_DATE</th></tr></thead><tbody><tr><td>1</td><td>Aakash</td><td>West</td><td>5000.00</td><td>2025-10-02</td></tr><tr><td>2</td><td>Gurumeeta</td><td>East</td><td>6000.00</td><td>2025-10-03</td></tr><tr><td>3</td><td>Nikitha</td><td>North</td><td>7000.00</td><td>2025-10-10</td></tr><tr><td>4</td><td>Shifana</td><td>South</td><td>8000.00</td><td>2025-10-08</td></tr><tr><td>5</td><td>Varshini</td><td>West</td><td>9000.00</td><td>2025-10-05</td></tr><tr><td>6</td><td>Vishal</td><td>North</td><td>6000.00</td><td>2025-10-15</td></tr></tbody></table></div>"
      ]
     },
     "metadata": {
      "application/vnd.databricks.v1+output": {
       "addedWidgets": {},
       "aggData": [],
       "aggError": "",
       "aggOverflow": false,
       "aggSchema": [],
       "aggSeriesLimitReached": false,
       "aggType": "",
       "arguments": {},
       "columnCustomDisplayInfos": {},
       "data": [
        [
         "1",
         "Aakash",
         "West",
         "5000.00",
         "2025-10-02"
        ],
        [
         "2",
         "Gurumeeta",
         "East",
         "6000.00",
         "2025-10-03"
        ],
        [
         "3",
         "Nikitha",
         "North",
         "7000.00",
         "2025-10-10"
        ],
        [
         "4",
         "Shifana",
         "South",
         "8000.00",
         "2025-10-08"
        ],
        [
         "5",
         "Varshini",
         "West",
         "9000.00",
         "2025-10-05"
        ],
        [
         "6",
         "Vishal",
         "North",
         "6000.00",
         "2025-10-15"
        ]
       ],
       "datasetInfos": [],
       "dbfsResultPath": null,
       "isJsonSchema": true,
       "metadata": {},
       "overflow": false,
       "plotOptions": {
        "customPlotOptions": {},
        "displayType": "table",
        "pivotAggregation": null,
        "pivotColumns": null,
        "xColumns": null,
        "yColumns": null
       },
       "removedWidgets": [],
       "schema": [
        {
         "metadata": "{}",
         "name": "ID",
         "type": "\"decimal(38,0)\""
        },
        {
         "metadata": "{}",
         "name": "CUSTOEMR_NAME",
         "type": "\"string\""
        },
        {
         "metadata": "{}",
         "name": "REGION",
         "type": "\"string\""
        },
        {
         "metadata": "{}",
         "name": "AMOUNT",
         "type": "\"decimal(10,2)\""
        },
        {
         "metadata": "{}",
         "name": "SALE_DATE",
         "type": "\"date\""
        }
       ],
       "type": "table"
      }
     },
     "output_type": "display_data"
    }
   ],
   "source": [
    "sfOptions={\n",
    "    \"sfUrl\": \"ioijmaj-rr68892.snowflakecomputing.com\",\n",
    "    \"sfUser\": \"nikitha\",\n",
    "    \"sfPassword\":\"Nikitha@21122003\",\n",
    "    \"sfDatabase\": \"MY_PRACTICE_DB\",\n",
    "    \"sfSchema\": \"MY_SCHEMA\",\n",
    "    \"sfWarehouse\": \"COMPUTE_WH\",\n",
    "    \"sfRole\":\"ACCOUNTADMIN\"\n",
    "}\n",
    "\n",
    "\n",
    "df= (spark.read.format(\"snowflake\").options(**sfOptions).option(\"dbtable\",\"SALES\")\n",
    "                .load())\n",
    "     \n",
    "display(df)"
   ]
  }
 ],
 "metadata": {
  "application/vnd.databricks.v1+notebook": {
   "computePreferences": null,
   "dashboards": [],
   "environmentMetadata": {
    "base_environment": "",
    "environment_version": "4"
   },
   "inputWidgetPreferences": null,
   "language": "python",
   "notebookMetadata": {
    "pythonIndentUnit": 4
   },
   "notebookName": "snowflake connectivity",
   "widgets": {}
  },
  "language_info": {
   "name": "python"
  }
 },
 "nbformat": 4,
 "nbformat_minor": 0
}