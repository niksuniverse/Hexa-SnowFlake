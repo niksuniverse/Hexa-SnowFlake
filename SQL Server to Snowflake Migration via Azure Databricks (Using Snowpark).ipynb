{
 "cells": [
  {
   "cell_type": "code",
   "execution_count": null,
   "id": "9915da38",
   "metadata": {},
   "outputs": [],
   "source": [
    "from pyspark.sql import SparkSession\n",
    "\n",
    "spark = SparkSession.builder \\\n",
    "    .appName(\"SQLServer_to_Snowflake_Migration\") \\\n",
    "    .getOrCreate()\n"
   ]
  },
  {
   "cell_type": "code",
   "execution_count": null,
   "id": "54584c92",
   "metadata": {},
   "outputs": [],
   "source": [
    "# Connection details\n",
    "sql_server_url = \"jdbc:sqlserver://10.0.0.5:1433;databaseName=SalesDB\"\n",
    "sql_properties = {\n",
    "    \"user\": \"admin_user\",\n",
    "    \"password\": \"*\",\n",
    "    \"driver\": \"com.microsoft.sqlserver.jdbc.SQLServerDriver\"\n",
    "}\n",
    "\n",
    "# Reading data from SQL Server table\n",
    "df_sales = spark.read.jdbc(url=sql_server_url, table=\"dbo.Sales_Orders\", properties=sql_properties)\n",
    "\n",
    "# Preview the data\n",
    "df_sales.show(5)\n"
   ]
  },
  {
   "cell_type": "code",
   "execution_count": null,
   "id": "395b10c6",
   "metadata": {},
   "outputs": [],
   "source": [
    "from snowflake.snowpark import Session\n",
    "from snowflake.snowpark.functions import col, upper\n",
    "\n",
    "# Snowflake connection parameters\n",
    "connection_parameters = {\n",
    "    \"account\": \"xyz12345.ap-south-1\",\n",
    "    \"user\": \"SF_USER\",\n",
    "    \"password\": \"Password123\",\n",
    "    \"role\": \"SYSADMIN\",\n",
    "    \"warehouse\": \"COMPUTE_WH\",\n",
    "    \"database\": \"TARGET_DB\",\n",
    "    \"schema\": \"PUBLIC\"\n",
    "}\n",
    "\n",
    "# Create Snowpark session\n",
    "snowflake_session = Session.builder.configs(connection_parameters).create()\n",
    "\n",
    "# Convert Spark DataFrame to Pandas for Snowpark processing (optional step)\n",
    "pandas_df = df_sales.toPandas()\n",
    "\n",
    "# Create Snowpark DataFrame\n",
    "snow_df = snowflake_session.create_dataframe(pandas_df)\n",
    "\n",
    "# Transformation: convert customer name to uppercase and filter high-value orders\n",
    "transformed_df = snow_df.with_column(\"CUSTOMER_NAME\", upper(col(\"CUSTOMER_NAME\"))) \\\n",
    "                        .filter(col(\"ORDER_TOTAL\") > 10000)\n",
    "\n",
    "transformed_df.show()\n"
   ]
  },
  {
   "cell_type": "code",
   "execution_count": null,
   "id": "1937d135",
   "metadata": {},
   "outputs": [],
   "source": [
    "# Write transformed data back to Snowflake\n",
    "transformed_df.write.save_as_table(\"TARGET_DB.PUBLIC.SALES_ORDERS_TRANSFORMED\")\n",
    "\n",
    "print(\"✅ Data successfully loaded into Snowflake!\")\n"
   ]
  },
  {
   "cell_type": "code",
   "execution_count": null,
   "id": "b1c58597",
   "metadata": {},
   "outputs": [],
   "source": [
    "USE DATABASE TARGET_DB;\n",
    "SELECT * FROM PUBLIC.SALES_ORDERS_TRANSFORMED LIMIT 10;\n"
   ]
  },
  {
   "cell_type": "code",
   "execution_count": null,
   "id": "bd3851a1",
   "metadata": {},
   "outputs": [],
   "source": [
    "try:\n",
    "    df_sales = spark.read.jdbc(url=sql_server_url, table=\"dbo.Sales_Orders\", properties=sql_properties)\n",
    "except Exception as e:\n",
    "    print(f\"❌ Error extracting data: {e}\")\n"
   ]
  },
  {
   "cell_type": "code",
   "execution_count": null,
   "id": "cec70008",
   "metadata": {},
   "outputs": [],
   "source": []
  },
  {
   "cell_type": "code",
   "execution_count": null,
   "id": "903a4b61",
   "metadata": {},
   "outputs": [],
   "source": []
  },
  {
   "cell_type": "code",
   "execution_count": null,
   "id": "37306bf6",
   "metadata": {},
   "outputs": [],
   "source": []
  }
 ],
 "metadata": {
  "kernelspec": {
   "display_name": "Python 3 (ipykernel)",
   "language": "python",
   "name": "python3"
  },
  "language_info": {
   "codemirror_mode": {
    "name": "ipython",
    "version": 3
   },
   "file_extension": ".py",
   "mimetype": "text/x-python",
   "name": "python",
   "nbconvert_exporter": "python",
   "pygments_lexer": "ipython3",
   "version": "3.9.13"
  }
 },
 "nbformat": 4,
 "nbformat_minor": 5
}
