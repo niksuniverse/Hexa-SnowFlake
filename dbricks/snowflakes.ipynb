options = {
    "sfURL": "ioijmaj-rr68892.snowflakecomputing.com",
    "sfDatabase": "TRAINING_DB",
    "sfSchema": "RAW",
    "sfWarehouse": "COMPUTE_WH",
    "sfRole": "ACCOUNTADMIN",
    "sfUser": "nikitha",
    "sfPassword": "*"
}
df = spark.read.format("snowflake").options(**options).option("dbtable", "SALES").load()
df.show()